{
 "cells": [
  {
   "cell_type": "markdown",
   "id": "4f2952c7",
   "metadata": {},
   "source": [
    "Objective: We need to read or write text data, possibly in different text encodings such as ASCII, UTF-8 or UTF-16."
   ]
  },
  {
   "cell_type": "markdown",
   "id": "18bab68d",
   "metadata": {},
   "source": [
    "- WE CAN USE THE OPEN() function to with different modes to read and write a text file. \n",
    "- "
   ]
  },
  {
   "cell_type": "code",
   "execution_count": null,
   "id": "c4f81f2a",
   "metadata": {},
   "outputs": [],
   "source": [
    "with open()"
   ]
  },
  {
   "cell_type": "code",
   "execution_count": 1,
   "id": "baba8c30",
   "metadata": {},
   "outputs": [],
   "source": [
    "# Add this to a cell and run it to enable detailed inspection\n",
    "%config IPCompleter.use_jedi = True\n"
   ]
  },
  {
   "cell_type": "markdown",
   "id": "5839eb3b",
   "metadata": {},
   "source": [
    "To write in the file, use the write method and also we can redirect the print function with the file parameter as well.\n",
    "\n",
    "Note: When redirecting the output of the print function make sure that the file is opened in the text mode 'rt' not the binary form."
   ]
  },
  {
   "cell_type": "code",
   "execution_count": 7,
   "id": "e75a8653",
   "metadata": {},
   "outputs": [],
   "source": [
    "with open(file='demo-file.txt', mode='w') as f:\n",
    "    f.write(\"This is the first line written in the file. \\n This is the second line written in teh file.\")\n",
    "    \n",
    "    print(\"this is the redirection from the print statement.\", file=f)\n",
    "    print(\"this is the second redirection from the print statement. \", file= f)"
   ]
  },
  {
   "cell_type": "code",
   "execution_count": 5,
   "id": "04b9db1f",
   "metadata": {},
   "outputs": [],
   "source": [
    "# Read the entire file in a string \n",
    "\n",
    "with open(file = 'demo-file.txt', mode='r') as f:\n",
    "    f.read()"
   ]
  },
  {
   "cell_type": "code",
   "execution_count": null,
   "id": "e755dafa",
   "metadata": {},
   "outputs": [
    {
     "name": "stdout",
     "output_type": "stream",
     "text": [
      "This is the first line written in the file. \n",
      "\n",
      " This is the second line written in teh file.this is the redirection from the print statement.\n",
      "\n",
      "this is the second redirection from the print statement. \n",
      "\n"
     ]
    }
   ],
   "source": [
    "# Iterate over the lines of the file\n",
    "\n",
    "with open(file='demo-file.txt', mode= 'rt') as f:\n",
    "    for line in f: # File objects are iterable\n",
    "        print(line)"
   ]
  },
  {
   "cell_type": "code",
   "execution_count": null,
   "id": "4182627a",
   "metadata": {},
   "outputs": [],
   "source": [
    "# Add this to a cell and run it to enable detailed inspection\n",
    "%config IPCompleter.use_jedi = True\n"
   ]
  },
  {
   "cell_type": "markdown",
   "id": "177be35f",
   "metadata": {},
   "source": [
    "For reading files in Python:\n",
    "\n",
    "- Reading the entire file: Use content = file.read()\n",
    "- Line by line reading: Use for line in file:\n",
    "- Reading all lines into a list: Use lines = file.readlines()\n",
    "\n",
    "Use the `with` statement, so when the control leaves the with block then file will be automatically closed. \n",
    "\n",
    "Also, there might be some errors that are encountered due to the encoding realted issues."
   ]
  },
  {
   "cell_type": "markdown",
   "id": "ee65b378",
   "metadata": {},
   "source": [
    "Some other useful parameters in the print funciton are `sep` and `end`"
   ]
  },
  {
   "cell_type": "code",
   "execution_count": 10,
   "id": "15d047d9",
   "metadata": {},
   "outputs": [
    {
     "name": "stdout",
     "output_type": "stream",
     "text": [
      "Jay 32 India\n",
      "Jay,32,India\n",
      "Jay,32,India !!\n"
     ]
    }
   ],
   "source": [
    "print('Jay', 32, 'India')\n",
    "print('Jay', 32, 'India', sep=',')\n",
    "print('Jay', 32, 'India', sep=',', end=' !!\\n')"
   ]
  },
  {
   "cell_type": "code",
   "execution_count": 14,
   "id": "9ba94652",
   "metadata": {},
   "outputs": [
    {
     "name": "stdout",
     "output_type": "stream",
     "text": [
      "('Jay', 32, 'India')\n",
      "Jay 32 India\n",
      "Jay, 32, India\n",
      "Jay, 32, India !!"
     ]
    }
   ],
   "source": [
    "row = ('Jay', 32, 'India')\n",
    "\n",
    "print(row)\n",
    "\n",
    "print(*row)\n",
    "\n",
    "print(*row, sep=', ')\n",
    "\n",
    "print(*row, sep=', ', end=' !!')"
   ]
  },
  {
   "cell_type": "code",
   "execution_count": null,
   "id": "f1a4aa00",
   "metadata": {},
   "outputs": [],
   "source": []
  }
 ],
 "metadata": {
  "kernelspec": {
   "display_name": ".venv",
   "language": "python",
   "name": "python3"
  },
  "language_info": {
   "codemirror_mode": {
    "name": "ipython",
    "version": 3
   },
   "file_extension": ".py",
   "mimetype": "text/x-python",
   "name": "python",
   "nbconvert_exporter": "python",
   "pygments_lexer": "ipython3",
   "version": "3.10.12"
  }
 },
 "nbformat": 4,
 "nbformat_minor": 5
}
