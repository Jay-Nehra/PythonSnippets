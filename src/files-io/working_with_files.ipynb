{
 "cells": [
  {
   "cell_type": "code",
   "execution_count": 2,
   "id": "10675e5a",
   "metadata": {},
   "outputs": [],
   "source": [
    "import csv\n",
    "import json \n",
    "import numpy as np\n",
    "import pandas as pd \n",
    "from pathlib import Path\n",
    "from matplotlib import pyplot as plt\n",
    "import seaborn as sns"
   ]
  },
  {
   "cell_type": "markdown",
   "id": "784b8d02",
   "metadata": {},
   "source": [
    "## Types of Files\n",
    "\n",
    "There are two types of files that python works with: binary files and text files. Most of the files that we generally work with in computers are the binary files. Here are the common examples of the binary files:\n",
    "* Image files jpg, png, bmp, gif etc. \n",
    "* databases files like mdb, frm, sqlite etc.\n",
    "* document files including doc, xls, pdf etc\n",
    "\n",
    "It might be the case that these files say include text but their format is binary files type. The reson for this is requirement for special handling and specific software to work with these. For example you need excel/ libre to work with the excel files or database program to work with sqlite file. \n",
    "\n",
    "On the other hand text files has no special encoding. and can be opened in any standard text editor. text files all have an unseen character at the end of each line which lets the text editor know that there should be a new line. When interacting with these files through programming, you can take advantage of that character. In Python, it is denoted by the “\\n”."
   ]
  },
  {
   "cell_type": "markdown",
   "id": "cc35588f",
   "metadata": {},
   "source": [
    "## Python Built-Ins for File Handling\n",
    "\n",
    "Python has the `open()` function which takes care of this. This will return the file object. \n",
    "\n",
    "You can open the file in many different modes: \n",
    "* 'w' – Write Mode: This mode is used when the file needs to be altered and information changed or added. Keep in mind that this erases the existing file to create a new one. File pointer is placed at the beginning of the file.\n",
    "* 'r' – Read Mode: This mode is used when the information in the file is only meant to be read and not changed inany way. File pointer is placed at the beginning of the file.\n",
    "* 'a' – Append Mode: This mode adds information to the end of the file automatically. File pointer is placed at the end of the file.\n",
    "* 'r+' – Read/Write Mode: This is used when you will be making changes to the file and reading information from it. The file pointer is placed at the beginning of the file.\n",
    "* 'a+' – Append and Read Mode: A file is opened to allow data to be added to the end of the file and lets your program read information as well. File pointer is placed at the end of the file.\n",
    "\n",
    "When you are using binary files, you will use the same mode specifiers. However, you add a b to the end. So a write mode specifier for a binary file is 'wb'. The others are 'rb', 'ab', 'r+b', and 'a+b' respectively."
   ]
  },
  {
   "cell_type": "markdown",
   "id": "458ac391",
   "metadata": {},
   "source": [
    "> Note: Best Practice is to use the open function in combination with the context manager using the with keyword. This makes sure to close/destroy the file object and free up the memory. If you don’t use the with keyword or use the fileobject.close() function then Python will automatically close and destroy the file object through the built in garbage collector. However, depending on your code, this garbage collection can happen at any time."
   ]
  },
  {
   "cell_type": "markdown",
   "id": "ce5d749b",
   "metadata": {},
   "source": [
    "## Pathlib Module\n",
    "\n",
    "Path object provides a cross-platform way to read, write, move, and delete files. Also the other main benifit of this library is that it brings together the functionality that is spread across other libraries like os, glob, and shutil. This makes file operation quite straight-forward. \n",
    "\n",
    "Plus, there is a built in methods for reading and writing both binary as well as text files. This ensures a clean and pythonic approach to the file operations. \n",
    "\n",
    "Agenda with the Pathlib exploration:\n",
    "* object oriented interface for managing the file and directory path, \n",
    "* different instantiation methods to the Path object\n",
    "* methods for reading, writing, mobing or deleting a file\n",
    "* to list out all the paths in a directory\n",
    "* method to check whether a path corresponds to a file \n",
    "* "
   ]
  },
  {
   "cell_type": "markdown",
   "id": "62d64098",
   "metadata": {},
   "source": [
    "### Module Importing Pattern and Path Class \n",
    "\n",
    "We will need to import the pathlib in our code. And infact the Path object is so widely used that a general pattern is to import the Path directly like this:\n",
    "\n",
    "```python\n",
    "\n",
    "from pathlib import Path\n",
    "```\n",
    "\n",
    "Because we will work with Path class of the pathlib, importing this way makes sure that we do not need to keep refering to `pathlib.Path` everytime we need to use it. \n",
    "\n",
    "* we can get current working directory using the `Path.cwd()` or the home directory for the user space with `Path.home()`.\n",
    "  * This will return a PosixPath object on linux and mac and on windows this will return a Windowspath\n",
    "* we can also pass in a string to Path to point it to some directory or a file \n",
    "* joining a path\n",
    "  * forward slash operator can be used to join parts of path \n",
    "  * also there is `joinpath` method which takes in the parts of path as argument\n",
    "\n",
    "* "
   ]
  },
  {
   "cell_type": "markdown",
   "id": "87d5e21a",
   "metadata": {},
   "source": [
    "Without the pathlib the file paths are represented using the regular text strings. and the functionality to work with the files paths was spread around different libraries. \n",
    "\n",
    "For example, say you would like to move some files into an archieve directory then to do this:\n",
    "\n",
    "You would need to use:\n",
    "* glob module to get all the directories which fit the criteria like all the csv files or all files which start withh letter a etc. \n",
    "* Then we would need to import the os module to join the each file path with the new directory path where we want to move the files into \n",
    "* then the shutil module to actually move the file to the new path \n",
    "\n",
    "But the pathlib module provides a Path  class which works the same way on different operating systems like windows, mac, linux etc. and Instead of importing different modules like glob, os and shutil to move the files, we can perform the same task using the Pathlib library alone. "
   ]
  },
  {
   "cell_type": "markdown",
   "id": "859da191",
   "metadata": {},
   "source": [
    "### Joining Path\n",
    "\n",
    "Other than passing the path string or using the path methods to fetch the file paths, there is a third way to construct a path:\n",
    "* we can use the / operator to join the parts of the path. \n",
    "  * As long as you include One path object then we can join several paths or a mix of paths and strings. \n",
    "  * This although does not look like a proper oo approach. \n",
    "    * We have another method join path which does the same operation. \n",
    "      * `Path.cwd().joinpath(\"archieve\", 'file1.py')"
   ]
  },
  {
   "cell_type": "code",
   "execution_count": 3,
   "id": "35724fe6",
   "metadata": {},
   "outputs": [
    {
     "data": {
      "text/plain": [
       "PosixPath('/home/thinkstation/Projects/08-python-snippets/src/files-io/archieve/file1.py')"
      ]
     },
     "execution_count": 3,
     "metadata": {},
     "output_type": "execute_result"
    }
   ],
   "source": [
    "Path.cwd().joinpath(\"archieve\", 'file1.py')"
   ]
  },
  {
   "cell_type": "markdown",
   "id": "c87c77ec",
   "metadata": {},
   "source": [
    "## File System Operations\n",
    "\n",
    "****"
   ]
  },
  {
   "cell_type": "markdown",
   "id": "727e34c9",
   "metadata": {},
   "source": [
    "\n",
    "### Picking Out Components of a Path\n",
    "\n",
    "A file or directory path consists of different parts. When you use pathlib, these parts are conveniently available as properties. Basic examples include:\n",
    "\n",
    "* `.name`: The filename without any directory\n",
    "* `.stem`: The filename without the file extension\n",
    "* `.suffix`: The file extension\n",
    "* `.anchor`: The part of the path before the directories\n",
    "* `.parent`: The directory containing the file, or the parent directory if the path is a directory\n"
   ]
  },
  {
   "cell_type": "code",
   "execution_count": 5,
   "id": "48e05783",
   "metadata": {},
   "outputs": [
    {
     "name": "stdout",
     "output_type": "stream",
     "text": [
      "This is the first line written in the file. \n",
      " This is the second line written in teh file.this is the redirection from the print statement.\n",
      "this is the second redirection from the print statement. \n",
      "\n"
     ]
    }
   ],
   "source": [
    "demo_text = Path.cwd().joinpath('faker_data', 'demo-file.txt')\n",
    "\n",
    "with demo_text.open(mode='r', encoding='utf-8') as demo_file:\n",
    "    print(demo_file.read())"
   ]
  },
  {
   "cell_type": "markdown",
   "id": "804f6f0b",
   "metadata": {},
   "source": [
    "### Methods to read, write the file \n",
    "\n",
    "In fact, Path.open() is calling the built-in open() function behind the scenes. That’s why we can use parameters like mode and encoding with Path.open().\n",
    "\n",
    "On top of that, pathlib offers some convenient methods to read and write files:\n",
    "* .read_text() opens the path in text mode and returns the contents as a string.\n",
    "* .read_bytes() opens the path in binary mode and returns the contents as a byte string.\n",
    "* .write_text() opens the path and writes string data to it.\n",
    "* .write_bytes() opens the path in binary mode and writes data to it.\n",
    "  * >Note: write methods overwrite the existing content.\n",
    "\n",
    "Each of these methods handles the opening and closing of the file. Therefore, you can update the file using .read_text():"
   ]
  },
  {
   "cell_type": "code",
   "execution_count": 6,
   "id": "99909310",
   "metadata": {},
   "outputs": [
    {
     "name": "stdout",
     "output_type": "stream",
     "text": [
      "This is the first line written in the file. \n",
      " This is the second line written in teh file.this is the redirection from the print statement.\n",
      "this is the second redirection from the print statement. \n",
      "\n"
     ]
    }
   ],
   "source": [
    "print(demo_text.read_text())"
   ]
  },
  {
   "cell_type": "markdown",
   "id": "1be73545",
   "metadata": {},
   "source": [
    "### Renaming the files \n",
    "\n",
    "* with_stem() - only the file name\n",
    "* with_suffix() - only the extension\n",
    "* with_name() - both"
   ]
  },
  {
   "cell_type": "markdown",
   "id": "477d42e0",
   "metadata": {},
   "source": []
  },
  {
   "cell_type": "code",
   "execution_count": 12,
   "id": "7c4678a4",
   "metadata": {},
   "outputs": [],
   "source": [
    "demo_text = demo_text.with_name('demo_f.txt')"
   ]
  },
  {
   "cell_type": "code",
   "execution_count": 13,
   "id": "79af5c2f",
   "metadata": {},
   "outputs": [
    {
     "data": {
      "text/plain": [
       "PosixPath('/home/thinkstation/Projects/08-python-snippets/src/files-io/faker_data/demo_f.txt')"
      ]
     },
     "execution_count": 13,
     "metadata": {},
     "output_type": "execute_result"
    }
   ],
   "source": [
    "demo_text"
   ]
  },
  {
   "cell_type": "code",
   "execution_count": 14,
   "id": "8e4bb56e",
   "metadata": {},
   "outputs": [],
   "source": [
    "demo_text = demo_text.with_stem('dummy-text')"
   ]
  },
  {
   "cell_type": "code",
   "execution_count": 15,
   "id": "6b621f76",
   "metadata": {},
   "outputs": [
    {
     "data": {
      "text/plain": [
       "PosixPath('/home/thinkstation/Projects/08-python-snippets/src/files-io/faker_data/dummy-text.txt')"
      ]
     },
     "execution_count": 15,
     "metadata": {},
     "output_type": "execute_result"
    }
   ],
   "source": [
    "demo_text"
   ]
  },
  {
   "cell_type": "code",
   "execution_count": 17,
   "id": "c36cd976",
   "metadata": {},
   "outputs": [],
   "source": [
    "demo_text = demo_text.with_suffix('.md')"
   ]
  },
  {
   "cell_type": "code",
   "execution_count": 18,
   "id": "2f07a419",
   "metadata": {},
   "outputs": [
    {
     "data": {
      "text/plain": [
       "PosixPath('/home/thinkstation/Projects/08-python-snippets/src/files-io/faker_data/dummy-text.md')"
      ]
     },
     "execution_count": 18,
     "metadata": {},
     "output_type": "execute_result"
    }
   ],
   "source": [
    "demo_text"
   ]
  },
  {
   "cell_type": "code",
   "execution_count": null,
   "id": "3b72471e",
   "metadata": {},
   "outputs": [],
   "source": []
  },
  {
   "cell_type": "code",
   "execution_count": null,
   "id": "65fa5e0f",
   "metadata": {},
   "outputs": [],
   "source": []
  },
  {
   "cell_type": "code",
   "execution_count": null,
   "id": "8f622f1d",
   "metadata": {},
   "outputs": [],
   "source": []
  },
  {
   "cell_type": "code",
   "execution_count": null,
   "id": "d1a8772a",
   "metadata": {},
   "outputs": [],
   "source": []
  },
  {
   "cell_type": "code",
   "execution_count": null,
   "id": "91b36d43",
   "metadata": {},
   "outputs": [],
   "source": []
  },
  {
   "cell_type": "code",
   "execution_count": null,
   "id": "c4056934",
   "metadata": {},
   "outputs": [],
   "source": []
  },
  {
   "cell_type": "code",
   "execution_count": null,
   "id": "5fabcc57",
   "metadata": {},
   "outputs": [],
   "source": []
  },
  {
   "cell_type": "code",
   "execution_count": null,
   "id": "fda2d193",
   "metadata": {},
   "outputs": [],
   "source": [
    "aaaaaa"
   ]
  },
  {
   "cell_type": "code",
   "execution_count": null,
   "id": "1d70c34b",
   "metadata": {},
   "outputs": [],
   "source": []
  },
  {
   "cell_type": "code",
   "execution_count": null,
   "id": "8b39e590",
   "metadata": {},
   "outputs": [],
   "source": []
  },
  {
   "cell_type": "code",
   "execution_count": null,
   "id": "ec4f139b",
   "metadata": {},
   "outputs": [],
   "source": []
  },
  {
   "cell_type": "code",
   "execution_count": null,
   "id": "825b633e",
   "metadata": {},
   "outputs": [],
   "source": []
  },
  {
   "cell_type": "code",
   "execution_count": 5,
   "id": "004f8a9d",
   "metadata": {},
   "outputs": [],
   "source": [
    "from pathlib import Path\n",
    "\n",
    "dir = Path('faker_data')\n",
    "dir.mkdir(exist_ok=True)"
   ]
  },
  {
   "cell_type": "code",
   "execution_count": 6,
   "id": "0dfa4a91",
   "metadata": {},
   "outputs": [],
   "source": [
    "\n",
    "from faker import Faker\n",
    "import random\n",
    "\n",
    "fake = Faker()\n",
    "\n",
    "fp= dir / 'random_text.txt'\n",
    "# Generate random text file with fake data\n",
    "with open(fp, 'w') as f:\n",
    "    # Generate 10 random paragraphs\n",
    "    for _ in range(10):\n",
    "        # Write a random paragraph with 3-7 sentences\n",
    "        paragraph = fake.paragraph(nb_sentences=random.randint(3,10))\n",
    "        f.write(paragraph + '\\n\\n')\n"
   ]
  },
  {
   "cell_type": "markdown",
   "id": "c967ffd7",
   "metadata": {},
   "source": [
    "# Flat Files in Python\n",
    "\n",
    "## What are Flat Files?\n",
    "- Simple text files storing data in plain text format\n",
    "- No complex structure or relationships between records\n",
    "- Each line typically represents one record/row\n",
    "\n",
    "## Common Types\n",
    "- **CSV** - Comma-separated values\n",
    "- **TSV** - Tab-separated values  \n",
    "- **TXT** - Plain text with custom delimiters\n",
    "- **JSON Lines** - One JSON object per line\n",
    "- **Fixed-width** - Columns with predetermined widths\n",
    "****\n",
    "## Best Practices\n",
    "- Use appropriate encoding (UTF-8)\n",
    "- Handle missing/null values consistently\n",
    "- Validate data types during processing\n",
    "- Use context managers (`with` statements)\n",
    "- Consider memory usage for large files\n",
    "- Implement error handling for malformed data"
   ]
  },
  {
   "cell_type": "markdown",
   "id": "c0cf7fd2",
   "metadata": {},
   "source": [
    "### Creating some data to work with\n",
    "y"
   ]
  },
  {
   "cell_type": "code",
   "execution_count": 13,
   "id": "d9b7ac4f",
   "metadata": {},
   "outputs": [],
   "source": [
    "\n",
    "\n",
    "from faker import Faker\n",
    "import csv\n",
    "\n",
    "fake = Faker()\n",
    "\n",
    "# Generate employee data\n",
    "with open('employees.csv', 'w', newline='') as file:\n",
    "    writer = csv.writer(file)\n",
    "    writer.writerow(['id', 'name', 'email', 'job', 'salary', 'department'])\n",
    "    \n",
    "    for i in range(1000):\n",
    "        writer.writerow([\n",
    "            i,\n",
    "            fake.name(),\n",
    "            fake.email(),\n",
    "            fake.job(),\n",
    "            fake.random_int(min=30000, max=120000),\n",
    "            fake.random_element(elements=('IT', 'HR', 'Sales', 'Marketing', 'Engineering'))\n",
    "        ])\n",
    "\n",
    "# Generate sales data\n",
    "with open('sales.csv', 'w', newline='') as file:\n",
    "    writer = csv.writer(file)\n",
    "    writer.writerow(['transaction_id', 'date', 'product', 'quantity', 'price', 'customer'])\n",
    "    \n",
    "    for i in range(5000):\n",
    "        writer.writerow([\n",
    "            fake.uuid4(),\n",
    "            fake.date_between(start_date='-1y', end_date='today'),\n",
    "            fake.random_element(elements=('Laptop', 'Phone', 'Tablet', 'Monitor', 'Keyboard')),\n",
    "            fake.random_int(min=1, max=10),\n",
    "            fake.random_int(min=100, max=2000),\n",
    "            fake.company()\n",
    "        ])\n",
    "\n",
    "# Generate customer data\n",
    "with open('customers.csv', 'w', newline='') as file:\n",
    "    writer = csv.writer(file)\n",
    "    writer.writerow(['customer_id', 'name', 'email', 'phone', 'address', 'join_date'])\n",
    "    \n",
    "    for i in range(500):\n",
    "        writer.writerow([\n",
    "            fake.uuid4(),\n",
    "            fake.name(),\n",
    "            fake.email(),\n",
    "            fake.phone_number(),\n",
    "            fake.address(),\n",
    "            fake.date_between(start_date='-5y', end_date='today')\n",
    "        ])\n",
    "\n",
    "# Generate numeric data for numpy analysis\n",
    "with open('numeric_data.csv', 'w', newline='') as file:\n",
    "    writer = csv.writer(file)\n",
    "    writer.writerow(['id', 'value_a', 'value_b', 'value_c'])\n",
    "    \n",
    "    for i in range(1000):\n",
    "        writer.writerow([\n",
    "            i,\n",
    "            fake.random_int(min=1, max=1000),\n",
    "            round(fake.random.uniform(0, 100), 2),\n",
    "            fake.random_int(min=-500, max=500)\n",
    "        ])\n"
   ]
  },
  {
   "cell_type": "markdown",
   "id": "0d5f3799",
   "metadata": {},
   "source": [
    "### Importing Flat Files using NumP"
   ]
  },
  {
   "cell_type": "code",
   "execution_count": 14,
   "id": "b8fc3eb1",
   "metadata": {},
   "outputs": [
    {
     "name": "stdout",
     "output_type": "stream",
     "text": [
      "[[   0.    313.      8.94 -492.  ]\n",
      " [   1.    794.     59.99   -1.  ]\n",
      " [   2.    668.     86.83  322.  ]\n",
      " ...\n",
      " [ 997.    818.     16.42  117.  ]\n",
      " [ 998.    787.     70.35  -14.  ]\n",
      " [ 999.    208.     74.61  491.  ]]\n"
     ]
    }
   ],
   "source": [
    "file_1 = Path('numeric_data.csv')\n",
    "\n",
    "data_np = np.loadtxt(fname = file_1, delimiter= ',',  skiprows= 1)\n",
    "\n",
    "print(data_np)"
   ]
  },
  {
   "cell_type": "code",
   "execution_count": null,
   "id": "feba85b2",
   "metadata": {},
   "outputs": [],
   "source": []
  },
  {
   "cell_type": "code",
   "execution_count": null,
   "id": "021b7411",
   "metadata": {},
   "outputs": [],
   "source": []
  },
  {
   "cell_type": "code",
   "execution_count": null,
   "id": "22b41d7a",
   "metadata": {},
   "outputs": [],
   "source": []
  },
  {
   "cell_type": "code",
   "execution_count": null,
   "id": "099f6426",
   "metadata": {},
   "outputs": [],
   "source": []
  }
 ],
 "metadata": {
  "kernelspec": {
   "display_name": ".venv",
   "language": "python",
   "name": "python3"
  },
  "language_info": {
   "codemirror_mode": {
    "name": "ipython",
    "version": 3
   },
   "file_extension": ".py",
   "mimetype": "text/x-python",
   "name": "python",
   "nbconvert_exporter": "python",
   "pygments_lexer": "ipython3",
   "version": "3.10.12"
  }
 },
 "nbformat": 4,
 "nbformat_minor": 5
}
