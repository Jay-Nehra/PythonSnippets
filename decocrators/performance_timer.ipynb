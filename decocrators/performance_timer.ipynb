{
 "cells": [
  {
   "cell_type": "code",
   "execution_count": null,
   "metadata": {
    "vscode": {
     "languageId": "plaintext"
    }
   },
   "outputs": [],
   "source": [
    "from loguru import logger\n",
    "from time import perf_counter\n",
    "from functools import wraps\n",
    "from typing import Callable, Any\n",
    "\n",
    "def performance_counter(func: Callable[..., Any]) -> Callable[..., Any]:\n",
    "    \"\"\"\n",
    "    Measures and logs execution time of the decorated function.\n",
    "    \"\"\"\n",
    "\n",
    "    @wraps(func)\n",
    "    def wrapper(*args, **kwargs):\n",
    "        start_time = perf_counter()\n",
    "        result = func(*args, **kwargs)\n",
    "        end_time = perf_counter()\n",
    "        execution_time = end_time - start_time\n",
    "        logger.info(\n",
    "            f\"Function '{func.__name__}' execution time:  {execution_time:.6f} seconds.\"\n",
    "        )\n",
    "        logger.debug(f\"Arguments passed: args={args}, kwargs={kwargs}\")\n",
    "        logger.debug(f\"Result returned: {result}\")\n",
    "        return result\n",
    "\n",
    "    return wrapper\n"
   ]
  },
  {
   "cell_type": "code",
   "execution_count": null,
   "metadata": {
    "vscode": {
     "languageId": "plaintext"
    }
   },
   "outputs": [],
   "source": []
  }
 ],
 "metadata": {
  "language_info": {
   "name": "python"
  }
 },
 "nbformat": 4,
 "nbformat_minor": 2
}
