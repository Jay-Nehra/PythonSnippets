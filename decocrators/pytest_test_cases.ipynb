{
 "cells": [
  {
   "cell_type": "code",
   "execution_count": null,
   "metadata": {
    "vscode": {
     "languageId": "plaintext"
    }
   },
   "outputs": [],
   "source": [
    "import pytest\n",
    "from valid_anagram import valid_anagram_counter, valid_anagram_sort, valid_anagram_dict\n",
    "\n",
    "\n",
    "test_cases = [\n",
    "    # Positive Cases\n",
    "    (\"anagram\", \"nagaram\", True),\n",
    "    (\"listen\", \"silent\", True),\n",
    "    (\"debitcard\", \"badcredit\", True),\n",
    "    # Negative Cases\n",
    "    (\"rat\", \"car\", False),\n",
    "    (\"hello\", \"world\", False),\n",
    "    (\"python\", \"java\", False),\n",
    "    # Edge Cases\n",
    "    (\"\", \"\", True),\n",
    "    (\"a\", \"a\", True),\n",
    "    (\"a\", \"b\", False),\n",
    "    (\"ab\", \"abc\", False),\n",
    "    (\"123\", \"321\", True),\n",
    "]\n",
    "\n",
    "\n",
    "@pytest.mark.parametrize(\"s, t, expected\", test_cases)\n",
    "def test_valid_anagram_counter(s: str, t: str, expected: bool) -> None:\n",
    "    result = valid_anagram_counter(s, t)\n",
    "    assert result == expected"
   ]
  }
 ],
 "metadata": {
  "language_info": {
   "name": "python"
  }
 },
 "nbformat": 4,
 "nbformat_minor": 2
}
