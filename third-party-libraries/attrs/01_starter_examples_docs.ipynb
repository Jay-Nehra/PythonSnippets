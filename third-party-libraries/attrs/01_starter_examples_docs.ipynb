{
 "cells": [
  {
   "cell_type": "markdown",
   "id": "77d609da",
   "metadata": {},
   "source": [
    "simplest use case is to use the define decorator to the class and we should have a class with a `__repr__` string and comparision operators. "
   ]
  },
  {
   "cell_type": "code",
   "execution_count": 1,
   "id": "268e6bd5",
   "metadata": {},
   "outputs": [],
   "source": [
    "from attrs import define \n",
    "\n",
    "@define\n",
    "class Point:\n",
    "    x: int\n",
    "    y: int\n",
    "    "
   ]
  },
  {
   "cell_type": "code",
   "execution_count": 2,
   "id": "39929f4b",
   "metadata": {},
   "outputs": [],
   "source": [
    "p1 = Point(1, 2)\n",
    "p2 = Point(3, 4)\n"
   ]
  },
  {
   "cell_type": "code",
   "execution_count": 4,
   "id": "9cb3666c",
   "metadata": {},
   "outputs": [
    {
     "data": {
      "text/plain": [
       "False"
      ]
     },
     "execution_count": 4,
     "metadata": {},
     "output_type": "execute_result"
    }
   ],
   "source": [
    "p1 == p2"
   ]
  },
  {
   "cell_type": "code",
   "execution_count": 5,
   "id": "3306baf0",
   "metadata": {},
   "outputs": [
    {
     "data": {
      "text/plain": [
       "Point(x=1, y=2)"
      ]
     },
     "execution_count": 5,
     "metadata": {},
     "output_type": "execute_result"
    }
   ],
   "source": [
    "p1"
   ]
  },
  {
   "cell_type": "code",
   "execution_count": 6,
   "id": "bf4bf616",
   "metadata": {},
   "outputs": [],
   "source": [
    "p3 = Point(x=1, y=2)"
   ]
  },
  {
   "cell_type": "code",
   "execution_count": 7,
   "id": "fa253275",
   "metadata": {},
   "outputs": [
    {
     "data": {
      "text/plain": [
       "True"
      ]
     },
     "execution_count": 7,
     "metadata": {},
     "output_type": "execute_result"
    }
   ],
   "source": [
    "p3 == p1"
   ]
  },
  {
   "cell_type": "markdown",
   "id": "f3fb6204",
   "metadata": {},
   "source": [
    "- so the constructor that attrs generates allows for both positional and keyword arguments\n",
    "- and unlike the dataclasses, attrs does not force the type annotations. \n",
    "- "
   ]
  },
  {
   "cell_type": "code",
   "execution_count": 8,
   "id": "36313c1e",
   "metadata": {},
   "outputs": [],
   "source": [
    "from attrs import field, define \n",
    "\n",
    "@define \n",
    "class Point:\n",
    "    x: field()\n",
    "    y: field()"
   ]
  },
  {
   "cell_type": "code",
   "execution_count": null,
   "id": "bba6786d",
   "metadata": {},
   "outputs": [],
   "source": []
  }
 ],
 "metadata": {
  "kernelspec": {
   "display_name": ".venv",
   "language": "python",
   "name": "python3"
  },
  "language_info": {
   "codemirror_mode": {
    "name": "ipython",
    "version": 3
   },
   "file_extension": ".py",
   "mimetype": "text/x-python",
   "name": "python",
   "nbconvert_exporter": "python",
   "pygments_lexer": "ipython3",
   "version": "3.10.12"
  }
 },
 "nbformat": 4,
 "nbformat_minor": 5
}
