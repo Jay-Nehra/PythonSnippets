{
 "cells": [
  {
   "cell_type": "code",
   "execution_count": null,
   "id": "8be53f36",
   "metadata": {},
   "outputs": [],
   "source": []
  },
  {
   "cell_type": "code",
   "execution_count": 2,
   "id": "c7c1857e",
   "metadata": {},
   "outputs": [],
   "source": [
    "from attrs import asdict, define, make_class, Factory\n",
    "\n",
    "@define\n",
    "class SomeClass:\n",
    "    a_number: int = 42\n",
    "    list_of_numbers: list[int] = Factory(list)\n",
    "\n",
    "    def hard_math(self, another_number):\n",
    "        return self.a_number + sum(self.list_of_numbers) * another_number\n"
   ]
  },
  {
   "cell_type": "code",
   "execution_count": 3,
   "id": "34eb9803",
   "metadata": {},
   "outputs": [],
   "source": [
    "\n",
    "sc = SomeClass(1, [1, 2, 3])\n"
   ]
  },
  {
   "cell_type": "code",
   "execution_count": 4,
   "id": "b5ca2f05",
   "metadata": {},
   "outputs": [
    {
     "data": {
      "text/plain": [
       "SomeClass(a_number=1, list_of_numbers=[1, 2, 3])"
      ]
     },
     "execution_count": 4,
     "metadata": {},
     "output_type": "execute_result"
    }
   ],
   "source": [
    "sc"
   ]
  },
  {
   "cell_type": "code",
   "execution_count": 5,
   "id": "fa98bec8",
   "metadata": {},
   "outputs": [
    {
     "data": {
      "text/plain": [
       "31"
      ]
     },
     "execution_count": 5,
     "metadata": {},
     "output_type": "execute_result"
    }
   ],
   "source": [
    "sc.hard_math(5)"
   ]
  },
  {
   "cell_type": "code",
   "execution_count": 6,
   "id": "504b3eab",
   "metadata": {},
   "outputs": [],
   "source": [
    "d = asdict(sc)"
   ]
  },
  {
   "cell_type": "code",
   "execution_count": 7,
   "id": "a36eb18c",
   "metadata": {},
   "outputs": [
    {
     "data": {
      "text/plain": [
       "{'a_number': 1, 'list_of_numbers': [1, 2, 3]}"
      ]
     },
     "execution_count": 7,
     "metadata": {},
     "output_type": "execute_result"
    }
   ],
   "source": [
    "d"
   ]
  },
  {
   "cell_type": "markdown",
   "id": "bc4d1a78",
   "metadata": {},
   "source": [
    "So, attrs does:\n",
    "- Takes the class definition, \n",
    "- writes the dunder methods based on that information and attaches them to the classes. \n",
    "  "
   ]
  },
  {
   "cell_type": "markdown",
   "id": "0dec7b8b",
   "metadata": {},
   "source": [
    "### How much boilerplate does this save?"
   ]
  },
  {
   "cell_type": "markdown",
   "id": "b325d81a",
   "metadata": {},
   "source": [
    "#### `attrs` approach"
   ]
  },
  {
   "cell_type": "code",
   "execution_count": 9,
   "id": "92550812",
   "metadata": {},
   "outputs": [
    {
     "data": {
      "text/plain": [
       "SmartClass(a=1, b=2)"
      ]
     },
     "execution_count": 9,
     "metadata": {},
     "output_type": "execute_result"
    }
   ],
   "source": [
    "from attrs import define, field\n",
    "\n",
    "@define\n",
    "class SmartClass:\n",
    "   a = field()\n",
    "   b = field()\n",
    "SmartClass(1, 2)"
   ]
  },
  {
   "cell_type": "markdown",
   "id": "5a7ac045",
   "metadata": {},
   "source": [
    "#### class with boilerplate"
   ]
  },
  {
   "cell_type": "code",
   "execution_count": 10,
   "id": "703d05b1",
   "metadata": {},
   "outputs": [
    {
     "data": {
      "text/plain": [
       "ArtisanalClass(a=1, b=2)"
      ]
     },
     "execution_count": 10,
     "metadata": {},
     "output_type": "execute_result"
    }
   ],
   "source": [
    "class ArtisanalClass:\n",
    "    def __init__(self, a, b):\n",
    "        self.a = a\n",
    "        self.b = b\n",
    "\n",
    "    def __repr__(self):\n",
    "        return f\"ArtisanalClass(a={self.a}, b={self.b})\"\n",
    "\n",
    "    def __eq__(self, other):\n",
    "        if other.__class__ is self.__class__:\n",
    "            return (self.a, self.b) == (other.a, other.b)\n",
    "        else:\n",
    "            return NotImplemented\n",
    "\n",
    "    def __ne__(self, other):\n",
    "        result = self.__eq__(other)\n",
    "        if result is NotImplemented:\n",
    "            return NotImplemented\n",
    "        else:\n",
    "            return not result\n",
    "\n",
    "    def __lt__(self, other):\n",
    "        if other.__class__ is self.__class__:\n",
    "            return (self.a, self.b) < (other.a, other.b)\n",
    "        else:\n",
    "            return NotImplemented\n",
    "\n",
    "    def __le__(self, other):\n",
    "        if other.__class__ is self.__class__:\n",
    "            return (self.a, self.b) <= (other.a, other.b)\n",
    "        else:\n",
    "            return NotImplemented\n",
    "\n",
    "    def __gt__(self, other):\n",
    "        if other.__class__ is self.__class__:\n",
    "            return (self.a, self.b) > (other.a, other.b)\n",
    "        else:\n",
    "            return NotImplemented\n",
    "\n",
    "    def __ge__(self, other):\n",
    "        if other.__class__ is self.__class__:\n",
    "            return (self.a, self.b) >= (other.a, other.b)\n",
    "        else:\n",
    "            return NotImplemented\n",
    "\n",
    "    def __hash__(self):\n",
    "        return hash((self.__class__, self.a, self.b))\n",
    "    \n",
    "    \n",
    "    \n",
    "ArtisanalClass(a=1, b=2)"
   ]
  },
  {
   "cell_type": "markdown",
   "id": "0c32067e",
   "metadata": {},
   "source": [
    "That’s quite a mouthful and it doesn’t even use any of attrs’s more advanced features like validators or default values. \n",
    "\n",
    "Also: no tests whatsoever. And who will guarantee you, that you don’t accidentally flip the < in your tenth implementation of __gt__?\n",
    "\n",
    "> It also should be noted that attrs is not an all-or-nothing solution. You can freely choose which features you want and disable those that you want more control over:"
   ]
  },
  {
   "cell_type": "code",
   "execution_count": 11,
   "id": "78d8d0ce",
   "metadata": {},
   "outputs": [],
   "source": [
    "@define\n",
    "class SmartClass:\n",
    "   a: int\n",
    "   b: int\n",
    "\n",
    "   def __repr__(self):\n",
    "       return f\"<SmartClass(a={self.a})>\""
   ]
  },
  {
   "cell_type": "code",
   "execution_count": 13,
   "id": "5c74bac3",
   "metadata": {},
   "outputs": [
    {
     "data": {
      "text/plain": [
       "<SmartClass(a=1)>"
      ]
     },
     "execution_count": 13,
     "metadata": {},
     "output_type": "execute_result"
    }
   ],
   "source": [
    "SmartClass(1,2)"
   ]
  },
  {
   "cell_type": "code",
   "execution_count": 14,
   "id": "a2cbd0e5",
   "metadata": {},
   "outputs": [],
   "source": [
    "sc_1 = SmartClass(1,2)\n",
    "sc_2 = SmartClass(2,3)"
   ]
  },
  {
   "cell_type": "code",
   "execution_count": 15,
   "id": "cd216839",
   "metadata": {},
   "outputs": [
    {
     "data": {
      "text/plain": [
       "False"
      ]
     },
     "execution_count": 15,
     "metadata": {},
     "output_type": "execute_result"
    }
   ],
   "source": [
    "sc_1 == sc_2"
   ]
  },
  {
   "cell_type": "code",
   "execution_count": 17,
   "id": "365dcf71",
   "metadata": {},
   "outputs": [
    {
     "ename": "TypeError",
     "evalue": "'>' not supported between instances of 'SmartClass' and 'SmartClass'",
     "output_type": "error",
     "traceback": [
      "\u001b[0;31m---------------------------------------------------------------------------\u001b[0m",
      "\u001b[0;31mTypeError\u001b[0m                                 Traceback (most recent call last)",
      "Cell \u001b[0;32mIn[17], line 1\u001b[0m\n\u001b[0;32m----> 1\u001b[0m \u001b[43msc_1\u001b[49m\u001b[43m \u001b[49m\u001b[38;5;241;43m>\u001b[39;49m\u001b[43m \u001b[49m\u001b[43msc_2\u001b[49m\n",
      "\u001b[0;31mTypeError\u001b[0m: '>' not supported between instances of 'SmartClass' and 'SmartClass'"
     ]
    }
   ],
   "source": [
    "sc_1 > sc_2"
   ]
  },
  {
   "cell_type": "markdown",
   "id": "544a9992",
   "metadata": {},
   "source": [
    "It seems by default attrs will not implement the __lt__, __gt__, __le__, __ge__ methods."
   ]
  },
  {
   "cell_type": "markdown",
   "id": "b63ec768",
   "metadata": {},
   "source": [
    "- Adding the `order` parameter to the `define` decorator will make the lt and other methods work as expected.\n",
    "- so we will need to enable the ordering."
   ]
  },
  {
   "cell_type": "code",
   "execution_count": 18,
   "id": "58158863",
   "metadata": {},
   "outputs": [],
   "source": [
    "\n",
    "@define(order=True)\n",
    "class SomeClass:\n",
    "    x = field()\n",
    "    y = field()\n",
    "\n",
    "sc_1 = SomeClass(1, 2)\n",
    "sc_2 = SomeClass(3, 4)"
   ]
  },
  {
   "cell_type": "code",
   "execution_count": 19,
   "id": "465c4ce9",
   "metadata": {},
   "outputs": [
    {
     "data": {
      "text/plain": [
       "True"
      ]
     },
     "execution_count": 19,
     "metadata": {},
     "output_type": "execute_result"
    }
   ],
   "source": [
    "\n",
    "sc_1 < sc_2"
   ]
  },
  {
   "cell_type": "code",
   "execution_count": null,
   "id": "85c60cb3",
   "metadata": {},
   "outputs": [],
   "source": []
  }
 ],
 "metadata": {
  "kernelspec": {
   "display_name": ".venv",
   "language": "python",
   "name": "python3"
  },
  "language_info": {
   "codemirror_mode": {
    "name": "ipython",
    "version": 3
   },
   "file_extension": ".py",
   "mimetype": "text/x-python",
   "name": "python",
   "nbconvert_exporter": "python",
   "pygments_lexer": "ipython3",
   "version": "3.10.12"
  }
 },
 "nbformat": 4,
 "nbformat_minor": 5
}
